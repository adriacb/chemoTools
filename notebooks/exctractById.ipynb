{
 "cells": [
  {
   "cell_type": "code",
   "execution_count": 2,
   "id": "2966204d",
   "metadata": {},
   "outputs": [],
   "source": [
    "from rdkit import Chem\n",
    "from rdkit.Chem import AllChem\n",
    "from rdkit.Chem import PandasTools\n",
    "\n",
    "import pandas as pd\n",
    "\n",
    "def extractMolFromSDFById(sdf: str, id: str, col_id: str) -> pd.DataFrame:\n",
    "    # extract molecule from sdf by id\n",
    "    sdf = PandasTools.LoadSDF(sdf, molColName='ROMol')\n",
    "    moldf = sdf[sdf[col_id] == id]\n",
    "    return moldf"
   ]
  },
  {
   "cell_type": "code",
   "execution_count": 3,
   "id": "7653519e",
   "metadata": {},
   "outputs": [],
   "source": [
    "file = '/chemotargets/research/SITALA/IPTACOPAN/03.Known/cfb.chembl.sdf'\n",
    "ID = 'CHEMBL4594448'\n",
    "\n",
    "df = extractMolFromSDFById(file, ID, 'chembl_id')"
   ]
  },
  {
   "cell_type": "code",
   "execution_count": 4,
   "id": "fcd07297",
   "metadata": {},
   "outputs": [
    {
     "data": {
      "text/html": [
       "<div>\n",
       "<style scoped>\n",
       "    .dataframe tbody tr th:only-of-type {\n",
       "        vertical-align: middle;\n",
       "    }\n",
       "\n",
       "    .dataframe tbody tr th {\n",
       "        vertical-align: top;\n",
       "    }\n",
       "\n",
       "    .dataframe thead th {\n",
       "        text-align: right;\n",
       "    }\n",
       "</style>\n",
       "<table border=\"1\" class=\"dataframe\">\n",
       "  <thead>\n",
       "    <tr style=\"text-align: right;\">\n",
       "      <th></th>\n",
       "      <th>molecule_name</th>\n",
       "      <th>target_name</th>\n",
       "      <th>organism</th>\n",
       "      <th>chembl_id</th>\n",
       "      <th>activity_info</th>\n",
       "      <th>pACT</th>\n",
       "      <th>ID</th>\n",
       "      <th>ROMol</th>\n",
       "    </tr>\n",
       "  </thead>\n",
       "  <tbody>\n",
       "    <tr>\n",
       "      <th>5</th>\n",
       "      <td>IPTACOPAN</td>\n",
       "      <td>Complement factor B</td>\n",
       "      <td>Homo sapiens</td>\n",
       "      <td>CHEMBL4594448</td>\n",
       "      <td>IC50: 7.07|Kd: 8.10</td>\n",
       "      <td>7.327500000000001</td>\n",
       "      <td>RENRQMCACQEWFC-UGKGYDQZSA-N</td>\n",
       "      <td style=\"text-align: center;\"><img data-content=\"rdkit/molecule\" src=\"data:image/png;base64,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\" alt=\"Mol\"/></td>\n",
       "    </tr>\n",
       "  </tbody>\n",
       "</table>\n",
       "</div>"
      ],
      "text/plain": [
       "  molecule_name          target_name      organism      chembl_id  \\\n",
       "5     IPTACOPAN  Complement factor B  Homo sapiens  CHEMBL4594448   \n",
       "\n",
       "         activity_info               pACT                           ID  \\\n",
       "5  IC50: 7.07|Kd: 8.10  7.327500000000001  RENRQMCACQEWFC-UGKGYDQZSA-N   \n",
       "\n",
       "                                               ROMol  \n",
       "5  <img data-content=\"rdkit/molecule\" src=\"data:i...  "
      ]
     },
     "execution_count": 4,
     "metadata": {},
     "output_type": "execute_result"
    }
   ],
   "source": [
    "df"
   ]
  },
  {
   "cell_type": "code",
   "execution_count": 17,
   "id": "2a1f1d31",
   "metadata": {},
   "outputs": [],
   "source": [
    "Chem.PandasTools.WriteSDF(df, f'{ID}.sdf', molColName='ROMol', properties=list(df.columns))"
   ]
  },
  {
   "cell_type": "code",
   "execution_count": 6,
   "id": "45c903e3",
   "metadata": {},
   "outputs": [],
   "source": [
    "ref = PandasTools.LoadSDF('/chemotargets/research/SITALA/IPTACOPAN/step1_PREPARATION_str/6rav-pdb-bundle1.JGQ.A.303.sdf', molColName='ROMol')"
   ]
  },
  {
   "cell_type": "code",
   "execution_count": 8,
   "id": "bafb3cb6",
   "metadata": {},
   "outputs": [
    {
     "ename": "ArgumentError",
     "evalue": "Python argument types in\n    rdkit.Chem.rdMolAlign.CalcRMS(Series, Series)\ndid not match C++ signature:\n    CalcRMS(RDKit::ROMol {lvalue} prbMol, RDKit::ROMol {lvalue} refMol, int prbId=-1, int refId=-1, boost::python::api::object map=None, int maxMatches=1000000, boost::python::api::object weights=[])",
     "output_type": "error",
     "traceback": [
      "\u001b[0;31m---------------------------------------------------------------------------\u001b[0m",
      "\u001b[0;31mArgumentError\u001b[0m                             Traceback (most recent call last)",
      "Input \u001b[0;32mIn [8]\u001b[0m, in \u001b[0;36m<cell line: 1>\u001b[0;34m()\u001b[0m\n\u001b[0;32m----> 1\u001b[0m \u001b[43mChem\u001b[49m\u001b[38;5;241;43m.\u001b[39;49m\u001b[43mrdMolAlign\u001b[49m\u001b[38;5;241;43m.\u001b[39;49m\u001b[43mCalcRMS\u001b[49m\u001b[43m(\u001b[49m\u001b[43mdf\u001b[49m\u001b[43m[\u001b[49m\u001b[38;5;124;43m'\u001b[39;49m\u001b[38;5;124;43mROMol\u001b[39;49m\u001b[38;5;124;43m'\u001b[39;49m\u001b[43m]\u001b[49m\u001b[43m,\u001b[49m\u001b[43mref\u001b[49m\u001b[43m[\u001b[49m\u001b[38;5;124;43m'\u001b[39;49m\u001b[38;5;124;43mROMol\u001b[39;49m\u001b[38;5;124;43m'\u001b[39;49m\u001b[43m]\u001b[49m\u001b[43m)\u001b[49m\n",
      "\u001b[0;31mArgumentError\u001b[0m: Python argument types in\n    rdkit.Chem.rdMolAlign.CalcRMS(Series, Series)\ndid not match C++ signature:\n    CalcRMS(RDKit::ROMol {lvalue} prbMol, RDKit::ROMol {lvalue} refMol, int prbId=-1, int refId=-1, boost::python::api::object map=None, int maxMatches=1000000, boost::python::api::object weights=[])"
     ]
    }
   ],
   "source": [
    "Chem.rdMolAlign.CalcRMS(df['ROMol'],ref['ROMol'])"
   ]
  },
  {
   "cell_type": "code",
   "execution_count": null,
   "id": "3b2d94b5",
   "metadata": {},
   "outputs": [],
   "source": []
  }
 ],
 "metadata": {
  "kernelspec": {
   "display_name": "Python 3 (ipykernel)",
   "language": "python",
   "name": "python3"
  },
  "language_info": {
   "codemirror_mode": {
    "name": "ipython",
    "version": 3
   },
   "file_extension": ".py",
   "mimetype": "text/x-python",
   "name": "python",
   "nbconvert_exporter": "python",
   "pygments_lexer": "ipython3",
   "version": "3.10.5"
  }
 },
 "nbformat": 4,
 "nbformat_minor": 5
}
